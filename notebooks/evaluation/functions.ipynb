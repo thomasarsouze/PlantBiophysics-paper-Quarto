{
 "cells": [
  {
   "cell_type": "code",
   "execution_count": 1,
   "metadata": {},
   "outputs": [
    {
     "data": {
      "text/plain": [
       "nBias"
      ]
     },
     "execution_count": 2,
     "metadata": {},
     "output_type": "execute_result"
    }
   ],
   "source": [
    "\"\"\"\n",
    "    RMSE(obs,sim)\n",
    "Returns the Root Mean Squared Error between observations `obs` and simulations `sim`.\n",
    "The closer to 0 the better.\n",
    "\"\"\"\n",
    "function RMSE(obs, sim, digits=2)\n",
    "    return round(sqrt(sum((obs .- sim) .^ 2) / length(obs)), digits=digits)\n",
    "end\n",
    "\"\"\"\n",
    "    nRMSE(obs,sim)\n",
    "Returns the normalized Root Mean Squared Error between observations `obs` and simulations `sim`.\n",
    "The closer to 0 the better.\n",
    "\"\"\"\n",
    "function nRMSE(obs, sim; digits=2)\n",
    "    return round(\n",
    "        sqrt(sum((obs .- sim) .^ 2) / length(obs)) / (findmax(obs)[1] - findmin(obs)[1]),\n",
    "        digits=digits,\n",
    "    )\n",
    "end\n",
    "\"\"\"\n",
    "    EF(obs,sim)\n",
    "Returns the Efficiency Factor between observations `obs` and simulations `sim` using NSE (Nash-Sutcliffe efficiency) model.\n",
    "More information can be found at https://en.wikipedia.org/wiki/Nash%E2%80%93Sutcliffe_model_efficiency_coefficient.\n",
    "The closer to 1 the better.\n",
    "\"\"\"\n",
    "function EF(obs, sim, digits=2)\n",
    "    SSres = sum((obs - sim) .^ 2)\n",
    "    SStot = sum((obs .- mean(obs)) .^ 2)\n",
    "    return round(1 - SSres / SStot, digits=digits)\n",
    "end\n",
    "\"\"\"\n",
    "\t    Bias(obs,sim)\n",
    "\tReturns the bias between observations `obs` and simulations `sim`.\n",
    "\tThe closer to 0 the better.\n",
    "\t\"\"\"\n",
    "function Bias(obs, sim, digits=4)\n",
    "    return round(mean(sim .- obs), digits=digits)\n",
    "end\n",
    "\"\"\"\n",
    "\tnBias(obs,sim; digits = 2)\n",
    "Returns the normalised bias (%) between observations `obs` and simulations `sim`.\n",
    "The closer to 0 the better.\n",
    "\"\"\"\n",
    "function nBias(obs, sim; digits=2)\n",
    "    return round(mean((sim .- obs)) / (findmax(obs)[1] - findmin(obs)[1]), digits=digits)\n",
    "end"
   ]
  }
 ],
 "metadata": {
  "kernelspec": {
   "display_name": "Julia 1.8.0",
   "language": "julia",
   "name": "julia-1.8"
  },
  "language_info": {
   "file_extension": ".jl",
   "mimetype": "application/julia",
   "name": "julia",
   "version": "1.8.2"
  }
 },
 "nbformat": 4,
 "nbformat_minor": 2
}
