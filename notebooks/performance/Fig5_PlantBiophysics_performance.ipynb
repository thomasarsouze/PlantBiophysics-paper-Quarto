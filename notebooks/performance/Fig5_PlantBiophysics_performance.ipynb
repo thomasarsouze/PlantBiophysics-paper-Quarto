{
 "cells": [
  {
   "cell_type": "code",
   "execution_count": 1,
   "metadata": {},
   "outputs": [
    {
     "name": "stderr",
     "output_type": "stream",
     "text": [
      "\u001b[32m\u001b[1m  Activating\u001b[22m\u001b[39m project at `~/Documents/Codes_divers/PlantBiophysics-paper-Quarto/notebooks/performance`\n"
     ]
    }
   ],
   "source": [
    "using Pkg\n",
    "Pkg.activate(\".\")"
   ]
  },
  {
   "cell_type": "code",
   "execution_count": 2,
   "metadata": {},
   "outputs": [],
   "source": [
    "### A Pluto.jl notebook ###\n",
    "# v0.19.23\n",
    "\n",
    "using Markdown\n",
    "using InteractiveUtils\n",
    "\n"
   ]
  },
  {
   "cell_type": "markdown",
   "metadata": {},
   "source": [
    "\n",
    "\n",
    "# PlantBiophysics.jl benchmark\n",
    "\n",
    "The main objective of this notebook is to compare the computational times of `PlantBiophysics.jl` against the [plantecophys](https://github.com/RemkoDuursma/plantecophys) R package and the [LeafGasExchange.jl](https://github.com/cropbox/LeafGasExchange.jl) Julia package from the [Cropbox.jl](https://github.com/cropbox/Cropbox.jl) framework. The comparison follows three steps:\n",
    "- create an N-large basis of random conditions.\n",
    "- benchmark the computational time of the three packages via similar functions (_i.e._ photosynthesis-stomatal conductance-energy balance coupled model for C3 leaves): `energy_balance`, `photosynEB` and `simulate` with `ModelC3MD`.\n",
    "- compare the results with plots and statistics.\n",
    "\n",
    "This notebook does not perform the benchmark by itself for the obvious reason that it takes forever to run, and because there is an overhead cause by Pluto (benchmark and reactive are not a good mix). Instead, it shows the outputs of [a script from this repository](https://github.com/VEZY/PlantBiophysics-paper/blob/main/tutorials/Fig5_PlantBiophysics_performance_noPluto.jl) that implements the code shown here. If you want to perform the benchmark by yourself, you can run this script from the command line. The versions used for the above dependencies are available in the [Project.toml](https://github.com/VEZY/PlantBiophysics-paper/blob/main/tutorials/Project.toml) of the repository.\n",
    "\n",
    "\n",
    "## Importing the dependencies:\n",
    "\n",
    "###### Note\n",
    "Make sure to have R installed on your computer first.\n",
    "\n",
    "Loading the Julia packages:\n",
    "\n",
    "```julia\n",
    "begin\n",
    "    using CairoMakie\n",
    "\tusing BenchmarkTools\n",
    "\tusing PlantBiophysics\n",
    "    using Cropbox\n",
    "    using LeafGasExchange\n",
    "    using RCall\n",
    "end\n",
    "```\n",
    "\t\n",
    "\n"
   ]
  },
  {
   "cell_type": "code",
   "execution_count": 3,
   "metadata": {},
   "outputs": [],
   "source": [
    "begin\n",
    "    using Statistics\n",
    "    using DataFrames\n",
    "    using CSV\n",
    "    using Random\n",
    "    using PlantBiophysics\n",
    "\tusing Downloads\n",
    "end\n",
    "\n"
   ]
  },
  {
   "cell_type": "markdown",
   "metadata": {},
   "source": [
    "\n",
    "\n",
    "## Parameters\n",
    "\n",
    "### Benchmark parameters\n",
    "\n",
    "You'll find below the main parameters of the benchmark. In a few words, each package runs a simulation for `N` different time-steps `microbenchmark_steps` times repeated `microbenchmark_evals` times. We make `N` different simulations because the simulation duration can vary depending on the inputs due to iterative computations in the code, *i.e.* different initial conditions can make the algorithms converge more or less rapidly.\n",
    "\n"
   ]
  },
  {
   "cell_type": "code",
   "execution_count": 4,
   "metadata": {},
   "outputs": [
    {
     "data": {
      "text/plain": [
       "100"
      ]
     },
     "execution_count": 5,
     "metadata": {},
     "output_type": "execute_result"
    }
   ],
   "source": [
    "begin\n",
    "    Random.seed!(1) # Set random seed\n",
    "    microbenchmark_steps = 100 # Number of times the microbenchmark is run\n",
    "    microbenchmark_evals = 1 # N. times each sample is run to be sure of the output\n",
    "    N = 100 # Number of timesteps simulated for each microbenchmark step\n",
    "end\n",
    "\n"
   ]
  },
  {
   "cell_type": "markdown",
   "metadata": {},
   "source": [
    "\n",
    "\n",
    "### Random input simulation dataset\n",
    "\n",
    "We create possible ranges for input parameters. These ranges where chosen so all of the three packages don't return errors during computation (`plantecophys` has issues with low temperatures).\n",
    "\n",
    "- Ta: air temperature ($°C$)\n",
    "- Wind: wind speed ($m.s^{-1}$)\n",
    "- P: ambient pressure ($kPa$)\n",
    "- Rh: relative humidity (between 0 and 1)\n",
    "- Ca: air CO₂ concentration ($ppm$)\n",
    "- Jmax: potential rate of electron transport ($\\mu mol_{CO2}.m^{-2}.s^{-1}$)\n",
    "- Vmax: maximum rate of Rubisco activity ($\\mu mol_{CO2}.m^{-2}.s^{-1}$)\n",
    "- Rd: mitochondrial respiration in the light at reference temperature ($\\mu mol_{CO2}.m^{-2}.s^{-1}$)\n",
    "- TPU: triose phosphate utilization-limited photosynthesis rate ($\\mu mol_{CO2}.m^{-2}.s^{-1}$)\n",
    "- Rs: short-wave net radiation ($W.m^{-1}$)\n",
    "- skyF: Sun-visible fraction of the leaf (between 0 and 1)\n",
    "- d: characteristic length ($m$)\n",
    "- g0: residual stomatal conductance ($mol_{CO2}.m^{-2}.s^{-1}$)\n",
    "- g1: slope of the stomatal conductance relationship.\n",
    "\n"
   ]
  },
  {
   "cell_type": "code",
   "execution_count": 5,
   "metadata": {},
   "outputs": [],
   "source": [
    "begin\n",
    "    # Create the ranges of input parameters\n",
    "    length_range = 10000\n",
    "    Rs = range(10, 500, length=length_range)\n",
    "    Ta = range(18, 40, length=length_range)\n",
    "    Wind = range(0.5, 20, length=length_range)\n",
    "    P = range(90, 101, length=length_range)\n",
    "    Rh = range(0.1, 0.98, length=length_range)\n",
    "    Ca = range(360, 900, length=length_range)\n",
    "    skyF = range(0.0, 1.0, length=length_range)\n",
    "    d = range(0.001, 0.5, length=length_range)\n",
    "    Jmax = range(200.0, 300.0, length=length_range)\n",
    "    Vmax = range(150.0, 250.0, length=length_range)\n",
    "    Rd = range(0.3, 2.0, length=length_range)\n",
    "    TPU = range(5.0, 20.0, length=length_range)\n",
    "    g0 = range(0.001, 2.0, length=length_range)\n",
    "    g1 = range(0.5, 15.0, length=length_range)\n",
    "    vars = hcat([Ta, Wind, P, Rh, Ca, Jmax, Vmax, Rd, Rs, skyF, d, TPU, g0, g1])\n",
    "    nothing\n",
    "end\n",
    "\n"
   ]
  },
  {
   "cell_type": "markdown",
   "metadata": {},
   "source": [
    "We then sample `N` conditions from the given ranges:\n"
   ]
  },
  {
   "cell_type": "code",
   "execution_count": 6,
   "metadata": {},
   "outputs": [
    {
     "data": {
      "text/html": [
       "<div class=\"data-frame\"><p>100 rows × 16 columns (omitted printing of 7 columns)</p><table class=\"data-frame\"><thead><tr><th></th><th>T</th><th>Wind</th><th>P</th><th>Rh</th><th>Ca</th><th>JMaxRef</th><th>VcMaxRef</th><th>RdRef</th><th>Rs</th></tr><tr><th></th><th title=\"Float64\">Float64</th><th title=\"Float64\">Float64</th><th title=\"Float64\">Float64</th><th title=\"Float64\">Float64</th><th title=\"Float64\">Float64</th><th title=\"Float64\">Float64</th><th title=\"Float64\">Float64</th><th title=\"Float64\">Float64</th><th title=\"Float64\">Float64</th></tr></thead><tbody><tr><th>1</th><td>19.6128</td><td>7.31008</td><td>97.6876</td><td>0.652871</td><td>854.095</td><td>219.282</td><td>227.018</td><td>1.62698</td><td>338.431</td></tr><tr><th>2</th><td>30.4752</td><td>12.5113</td><td>92.1529</td><td>0.110913</td><td>528.443</td><td>211.471</td><td>204.605</td><td>1.35955</td><td>142.705</td></tr><tr><th>3</th><td>37.0693</td><td>14.7462</td><td>94.7316</td><td>0.466029</td><td>793.393</td><td>266.147</td><td>184.753</td><td>1.6229</td><td>106.442</td></tr><tr><th>4</th><td>36.1958</td><td>8.21692</td><td>94.8086</td><td>0.20033</td><td>392.997</td><td>296.88</td><td>177.223</td><td>1.36686</td><td>346.517</td></tr><tr><th>5</th><td>32.6337</td><td>13.8159</td><td>99.9659</td><td>0.806623</td><td>781.134</td><td>263.616</td><td>161.891</td><td>0.987039</td><td>306.333</td></tr><tr><th>6</th><td>39.8042</td><td>16.0392</td><td>90.4884</td><td>0.45714</td><td>750.567</td><td>283.968</td><td>157.291</td><td>1.71964</td><td>491.522</td></tr><tr><th>7</th><td>18.0286</td><td>15.1148</td><td>93.7844</td><td>0.863036</td><td>493.015</td><td>242.564</td><td>199.045</td><td>0.894889</td><td>453.445</td></tr><tr><th>8</th><td>36.3454</td><td>19.6451</td><td>91.8372</td><td>0.733399</td><td>496.796</td><td>205.461</td><td>186.324</td><td>1.36669</td><td>436.637</td></tr><tr><th>9</th><td>31.2409</td><td>9.08476</td><td>97.363</td><td>0.266161</td><td>436.04</td><td>240.004</td><td>182.193</td><td>0.820252</td><td>423.356</td></tr><tr><th>10</th><td>33.1925</td><td>7.73132</td><td>100.956</td><td>0.132739</td><td>798.2</td><td>211.701</td><td>232.558</td><td>1.32384</td><td>96.2486</td></tr><tr><th>11</th><td>28.7393</td><td>14.0909</td><td>97.7217</td><td>0.24231</td><td>372.637</td><td>263.636</td><td>201.805</td><td>0.971057</td><td>400.226</td></tr><tr><th>12</th><td>27.4323</td><td>7.70597</td><td>92.0979</td><td>0.376172</td><td>864.032</td><td>274.717</td><td>180.683</td><td>1.80363</td><td>459.473</td></tr><tr><th>13</th><td>23.626</td><td>12.521</td><td>96.6172</td><td>0.248559</td><td>400.234</td><td>210.501</td><td>209.596</td><td>1.68615</td><td>282.761</td></tr><tr><th>14</th><td>39.5578</td><td>17.7885</td><td>95.0044</td><td>0.227525</td><td>691.269</td><td>256.276</td><td>178.803</td><td>1.75025</td><td>494.462</td></tr><tr><th>15</th><td>27.6612</td><td>5.43984</td><td>93.9747</td><td>0.418416</td><td>826.769</td><td>268.607</td><td>247.65</td><td>1.51987</td><td>348.134</td></tr><tr><th>16</th><td>38.8031</td><td>10.8867</td><td>99.5402</td><td>0.903608</td><td>582.394</td><td>246.045</td><td>200.665</td><td>1.88575</td><td>297.316</td></tr><tr><th>17</th><td>26.6843</td><td>9.84143</td><td>97.2519</td><td>0.680066</td><td>532.277</td><td>206.881</td><td>210.466</td><td>1.13461</td><td>243.802</td></tr><tr><th>18</th><td>29.8174</td><td>14.6701</td><td>100.152</td><td>0.85714</td><td>767.093</td><td>274.637</td><td>155.971</td><td>1.45017</td><td>424.777</td></tr><tr><th>19</th><td>19.9098</td><td>4.35749</td><td>91.4455</td><td>0.644862</td><td>645.635</td><td>229.783</td><td>155.911</td><td>0.349305</td><td>210.626</td></tr><tr><th>20</th><td>28.5743</td><td>18.0167</td><td>94.2816</td><td>0.772739</td><td>372.043</td><td>212.111</td><td>241.699</td><td>0.50164</td><td>290.259</td></tr><tr><th>21</th><td>28.9043</td><td>7.9946</td><td>96.4862</td><td>0.523498</td><td>600.918</td><td>212.031</td><td>181.823</td><td>1.40664</td><td>334.02</td></tr><tr><th>22</th><td>27.3553</td><td>12.5756</td><td>94.3322</td><td>0.70286</td><td>760.99</td><td>216.232</td><td>181.453</td><td>1.74922</td><td>301.383</td></tr><tr><th>23</th><td>24.5809</td><td>12.131</td><td>95.0902</td><td>0.417536</td><td>763.366</td><td>241.324</td><td>219.377</td><td>1.52055</td><td>420.465</td></tr><tr><th>24</th><td>18.7789</td><td>9.31683</td><td>94.9901</td><td>0.601122</td><td>702.448</td><td>234.173</td><td>228.868</td><td>0.369197</td><td>122.123</td></tr><tr><th>25</th><td>20.5369</td><td>9.24857</td><td>93.0902</td><td>0.598746</td><td>636.886</td><td>257.476</td><td>241.159</td><td>0.80325</td><td>173.431</td></tr><tr><th>26</th><td>28.7855</td><td>17.1449</td><td>97.9329</td><td>0.955446</td><td>494.257</td><td>259.106</td><td>166.022</td><td>1.26655</td><td>26.4166</td></tr><tr><th>27</th><td>27.8108</td><td>16.8953</td><td>91.6469</td><td>0.773091</td><td>850.693</td><td>211.641</td><td>167.842</td><td>0.705151</td><td>214.35</td></tr><tr><th>28</th><td>32.3828</td><td>6.9688</td><td>92.4026</td><td>0.823608</td><td>682.574</td><td>299.8</td><td>236.049</td><td>0.40337</td><td>182.987</td></tr><tr><th>29</th><td>22.7877</td><td>14.6682</td><td>90.1067</td><td>0.118834</td><td>753.105</td><td>252.545</td><td>210.746</td><td>1.18188</td><td>269.922</td></tr><tr><th>30</th><td>38.3916</td><td>1.54335</td><td>93.0759</td><td>0.132211</td><td>724.698</td><td>230.903</td><td>181.053</td><td>0.357806</td><td>108.745</td></tr><tr><th>&vellip;</th><td>&vellip;</td><td>&vellip;</td><td>&vellip;</td><td>&vellip;</td><td>&vellip;</td><td>&vellip;</td><td>&vellip;</td><td>&vellip;</td><td>&vellip;</td></tr></tbody></table></div>"
      ],
      "text/latex": [
       "\\begin{tabular}{r|cccccccccc}\n",
       "\t& T & Wind & P & Rh & Ca & JMaxRef & VcMaxRef & RdRef & Rs & \\\\\n",
       "\t\\hline\n",
       "\t& Float64 & Float64 & Float64 & Float64 & Float64 & Float64 & Float64 & Float64 & Float64 & \\\\\n",
       "\t\\hline\n",
       "\t1 & 19.6128 & 7.31008 & 97.6876 & 0.652871 & 854.095 & 219.282 & 227.018 & 1.62698 & 338.431 & $\\dots$ \\\\\n",
       "\t2 & 30.4752 & 12.5113 & 92.1529 & 0.110913 & 528.443 & 211.471 & 204.605 & 1.35955 & 142.705 & $\\dots$ \\\\\n",
       "\t3 & 37.0693 & 14.7462 & 94.7316 & 0.466029 & 793.393 & 266.147 & 184.753 & 1.6229 & 106.442 & $\\dots$ \\\\\n",
       "\t4 & 36.1958 & 8.21692 & 94.8086 & 0.20033 & 392.997 & 296.88 & 177.223 & 1.36686 & 346.517 & $\\dots$ \\\\\n",
       "\t5 & 32.6337 & 13.8159 & 99.9659 & 0.806623 & 781.134 & 263.616 & 161.891 & 0.987039 & 306.333 & $\\dots$ \\\\\n",
       "\t6 & 39.8042 & 16.0392 & 90.4884 & 0.45714 & 750.567 & 283.968 & 157.291 & 1.71964 & 491.522 & $\\dots$ \\\\\n",
       "\t7 & 18.0286 & 15.1148 & 93.7844 & 0.863036 & 493.015 & 242.564 & 199.045 & 0.894889 & 453.445 & $\\dots$ \\\\\n",
       "\t8 & 36.3454 & 19.6451 & 91.8372 & 0.733399 & 496.796 & 205.461 & 186.324 & 1.36669 & 436.637 & $\\dots$ \\\\\n",
       "\t9 & 31.2409 & 9.08476 & 97.363 & 0.266161 & 436.04 & 240.004 & 182.193 & 0.820252 & 423.356 & $\\dots$ \\\\\n",
       "\t10 & 33.1925 & 7.73132 & 100.956 & 0.132739 & 798.2 & 211.701 & 232.558 & 1.32384 & 96.2486 & $\\dots$ \\\\\n",
       "\t11 & 28.7393 & 14.0909 & 97.7217 & 0.24231 & 372.637 & 263.636 & 201.805 & 0.971057 & 400.226 & $\\dots$ \\\\\n",
       "\t12 & 27.4323 & 7.70597 & 92.0979 & 0.376172 & 864.032 & 274.717 & 180.683 & 1.80363 & 459.473 & $\\dots$ \\\\\n",
       "\t13 & 23.626 & 12.521 & 96.6172 & 0.248559 & 400.234 & 210.501 & 209.596 & 1.68615 & 282.761 & $\\dots$ \\\\\n",
       "\t14 & 39.5578 & 17.7885 & 95.0044 & 0.227525 & 691.269 & 256.276 & 178.803 & 1.75025 & 494.462 & $\\dots$ \\\\\n",
       "\t15 & 27.6612 & 5.43984 & 93.9747 & 0.418416 & 826.769 & 268.607 & 247.65 & 1.51987 & 348.134 & $\\dots$ \\\\\n",
       "\t16 & 38.8031 & 10.8867 & 99.5402 & 0.903608 & 582.394 & 246.045 & 200.665 & 1.88575 & 297.316 & $\\dots$ \\\\\n",
       "\t17 & 26.6843 & 9.84143 & 97.2519 & 0.680066 & 532.277 & 206.881 & 210.466 & 1.13461 & 243.802 & $\\dots$ \\\\\n",
       "\t18 & 29.8174 & 14.6701 & 100.152 & 0.85714 & 767.093 & 274.637 & 155.971 & 1.45017 & 424.777 & $\\dots$ \\\\\n",
       "\t19 & 19.9098 & 4.35749 & 91.4455 & 0.644862 & 645.635 & 229.783 & 155.911 & 0.349305 & 210.626 & $\\dots$ \\\\\n",
       "\t20 & 28.5743 & 18.0167 & 94.2816 & 0.772739 & 372.043 & 212.111 & 241.699 & 0.50164 & 290.259 & $\\dots$ \\\\\n",
       "\t21 & 28.9043 & 7.9946 & 96.4862 & 0.523498 & 600.918 & 212.031 & 181.823 & 1.40664 & 334.02 & $\\dots$ \\\\\n",
       "\t22 & 27.3553 & 12.5756 & 94.3322 & 0.70286 & 760.99 & 216.232 & 181.453 & 1.74922 & 301.383 & $\\dots$ \\\\\n",
       "\t23 & 24.5809 & 12.131 & 95.0902 & 0.417536 & 763.366 & 241.324 & 219.377 & 1.52055 & 420.465 & $\\dots$ \\\\\n",
       "\t24 & 18.7789 & 9.31683 & 94.9901 & 0.601122 & 702.448 & 234.173 & 228.868 & 0.369197 & 122.123 & $\\dots$ \\\\\n",
       "\t25 & 20.5369 & 9.24857 & 93.0902 & 0.598746 & 636.886 & 257.476 & 241.159 & 0.80325 & 173.431 & $\\dots$ \\\\\n",
       "\t26 & 28.7855 & 17.1449 & 97.9329 & 0.955446 & 494.257 & 259.106 & 166.022 & 1.26655 & 26.4166 & $\\dots$ \\\\\n",
       "\t27 & 27.8108 & 16.8953 & 91.6469 & 0.773091 & 850.693 & 211.641 & 167.842 & 0.705151 & 214.35 & $\\dots$ \\\\\n",
       "\t28 & 32.3828 & 6.9688 & 92.4026 & 0.823608 & 682.574 & 299.8 & 236.049 & 0.40337 & 182.987 & $\\dots$ \\\\\n",
       "\t29 & 22.7877 & 14.6682 & 90.1067 & 0.118834 & 753.105 & 252.545 & 210.746 & 1.18188 & 269.922 & $\\dots$ \\\\\n",
       "\t30 & 38.3916 & 1.54335 & 93.0759 & 0.132211 & 724.698 & 230.903 & 181.053 & 0.357806 & 108.745 & $\\dots$ \\\\\n",
       "\t$\\dots$ & $\\dots$ & $\\dots$ & $\\dots$ & $\\dots$ & $\\dots$ & $\\dots$ & $\\dots$ & $\\dots$ & $\\dots$ &  \\\\\n",
       "\\end{tabular}\n"
      ],
      "text/plain": [
       "\u001b[1m100×16 DataFrame\u001b[0m\n",
       "\u001b[1m Row \u001b[0m│\u001b[1m T       \u001b[0m\u001b[1m Wind     \u001b[0m\u001b[1m P        \u001b[0m\u001b[1m Rh       \u001b[0m\u001b[1m Ca      \u001b[0m\u001b[1m JMaxRef \u001b[0m\u001b[1m VcMaxRef \u001b[0m\u001b[1m RdRe\u001b[0m ⋯\n",
       "\u001b[1m     \u001b[0m│\u001b[90m Float64 \u001b[0m\u001b[90m Float64  \u001b[0m\u001b[90m Float64  \u001b[0m\u001b[90m Float64  \u001b[0m\u001b[90m Float64 \u001b[0m\u001b[90m Float64 \u001b[0m\u001b[90m Float64  \u001b[0m\u001b[90m Floa\u001b[0m ⋯\n",
       "─────┼──────────────────────────────────────────────────────────────────────────\n",
       "   1 │ 19.6128   7.31008   97.6876  0.652871  854.095  219.282   227.018  1.62 ⋯\n",
       "   2 │ 30.4752  12.5113    92.1529  0.110913  528.443  211.471   204.605  1.35\n",
       "   3 │ 37.0693  14.7462    94.7316  0.466029  793.393  266.147   184.753  1.62\n",
       "   4 │ 36.1958   8.21692   94.8086  0.20033   392.997  296.88    177.223  1.36\n",
       "   5 │ 32.6337  13.8159    99.9659  0.806623  781.134  263.616   161.891  0.98 ⋯\n",
       "   6 │ 39.8042  16.0392    90.4884  0.45714   750.567  283.968   157.291  1.71\n",
       "   7 │ 18.0286  15.1148    93.7844  0.863036  493.015  242.564   199.045  0.89\n",
       "   8 │ 36.3454  19.6451    91.8372  0.733399  496.796  205.461   186.324  1.36\n",
       "   9 │ 31.2409   9.08476   97.363   0.266161  436.04   240.004   182.193  0.82 ⋯\n",
       "  10 │ 33.1925   7.73132  100.956   0.132739  798.2    211.701   232.558  1.32\n",
       "  11 │ 28.7393  14.0909    97.7217  0.24231   372.637  263.636   201.805  0.97\n",
       "  ⋮  │    ⋮        ⋮         ⋮         ⋮         ⋮        ⋮        ⋮         ⋮ ⋱\n",
       "  91 │ 33.7888  16.4545    90.6766  0.972607  367.561  282.918   192.994  0.82\n",
       "  92 │ 23.3113  17.8197    96.527   0.712453  788.803  265.567   175.623  0.33 ⋯\n",
       "  93 │ 37.945    8.77858  100.675   0.423432  825.311  221.142   169.002  0.85\n",
       "  94 │ 36.0286  15.1401    93.1529  0.410407  593.681  278.848   194.244  0.92\n",
       "  95 │ 27.9384  12.1466    96.0792  0.886271  594.869  247.355   205.566  1.49\n",
       "  96 │ 35.4499   7.23597   90.5061  0.767635  645.905  257.846   186.364  0.79 ⋯\n",
       "  97 │ 23.6304   3.12496   98.2398  0.491639  401.53   272.427   186.894  1.17\n",
       "  98 │ 32.5039   9.41434   92.077   0.307701  360.216  295.2     161.691  0.71\n",
       "  99 │ 36.3322  18.1883    93.2398  0.753289  433.069  255.016   237.889  0.38\n",
       " 100 │ 28.9703  10.4109    96.3498  0.765611  774.869  212.921   200.395  1.52 ⋯\n",
       "\u001b[36m                                                   9 columns and 79 rows omitted\u001b[0m"
      ]
     },
     "execution_count": 7,
     "metadata": {},
     "output_type": "execute_result"
    }
   ],
   "source": [
    "begin\n",
    "    set = [rand.(vars) for i = 1:N]\n",
    "    set = reshape(vcat(set...), (length(set[1]), length(set)))'\n",
    "    name = [\n",
    "        \"T\",\n",
    "        \"Wind\",\n",
    "        \"P\",\n",
    "        \"Rh\",\n",
    "        \"Ca\",\n",
    "        \"JMaxRef\",\n",
    "        \"VcMaxRef\",\n",
    "        \"RdRef\",\n",
    "        \"Rs\",\n",
    "        \"sky_fraction\",\n",
    "        \"d\",\n",
    "        \"TPURef\",\n",
    "        \"g0\",\n",
    "        \"g1\",\n",
    "    ]\n",
    "    set = DataFrame(set, name)\n",
    "    @. set[!, :vpd] = e_sat(set.T) - vapor_pressure(set.T, set.Rh)\n",
    "    @. set[!, :PPFD] = set.Rs * 0.48 * 4.57\n",
    "    set\n",
    "end\n",
    "\n"
   ]
  },
  {
   "cell_type": "markdown",
   "metadata": {},
   "source": [
    "\n",
    "## Benchmarking\n",
    "\n"
   ]
  },
  {
   "cell_type": "markdown",
   "metadata": {},
   "source": [
    "\n",
    "##### plantecophys\n",
    "\n",
    "Preparing R to make the benchmark:\n",
    "\n",
    "```julia\n",
    "R\\\"\\\"\\\"\n",
    "if(!require(\"plantecophys\")){\n",
    "    install.packages(\"plantecophys\", repos = \"https://cloud.r-project.org\")\n",
    "}\n",
    "if(!require(\"microbenchmark\")){\n",
    "    install.packages(\"microbenchmark\", repos = \"https://cloud.r-project.org\")\n",
    "}\n",
    "\\\"\\\"\\\"\n",
    "\n",
    "# Make variables available to the R session\n",
    "@rput set N microbenchmark_steps\n",
    "\n",
    "```\n",
    "\n",
    "Making the benchmark:\n",
    "\n",
    "```julia\n",
    "R\\\"\\\"\\\"\n",
    "# Define the function call in a function that takes a list as input to limit DataFrame overhead\n",
    "function_EB <- function(input) {\n",
    "    PhotosynEB(\n",
    "        Tair = input$Tair, VPD = input$VPD, Wind = input$Wind,\n",
    "        Wleaf = input$Wleaf,Ca = input$Ca,  StomatalRatio = 1,\n",
    "        LeafAbs = input$LeafAbs, gsmodel = \"BBOpti\", g0 = input$g0, g1 = input$g1,\n",
    "        alpha = 0.24, theta = 0.7, Jmax = input$Jmax,\n",
    "        Vcmax = input$Vcmax, TPU = input$TPU, Rd = input$Rd,\n",
    "        RH = input$RH, PPFD=input$PPFD, Patm = input$Patm\n",
    "    )\n",
    "}\n",
    "\n",
    "time_PE = c()\n",
    "for(i in seq_len(N)){\n",
    "    # Put the inputs into a vector to limit dataframe overhead:\n",
    "    input = list(\n",
    "        Tair = set$T[i], VPD = set$vpd[i], Wind = set$Wind[i], Wleaf = set$d[i],\n",
    "        Ca = set$Ca[i], LeafAbs = set$sky_fraction[i], g0 = set$g0[i], g1 = set$g1[i],\n",
    "        Jmax = set$JMaxRef[i], Vcmax = set$VcMaxRef[i], TPU = set$TPURef[i],\n",
    "        Rd = set$RdRef[i], RH = set$Rh[i]*100, PPFD=set$PPFD[i],Patm = set$P[i]\n",
    "    )\n",
    "\n",
    "    m = microbenchmark(function_EB(input), times = microbenchmark_steps)\n",
    "\n",
    "    time_PE = append(time_PE,m$time * 10e-9) # transform in seconds\n",
    "}\n",
    "\\\"\\\"\\\"\n",
    "\n",
    "@rget time_PE\n",
    "```\n",
    "\n",
    "\n"
   ]
  },
  {
   "cell_type": "markdown",
   "metadata": {},
   "source": [
    "\n",
    "\n",
    "##### LeafGasExchange.jl\n",
    "\n",
    "Note that we benchmark `LeafGasExchange.jl` with the `nounit` flag to compute a fair comparison with `PlantBiophysics.jl` in case computing units takes time (it shouldn't much).\n",
    "\n",
    "```julia\n",
    "time_LG = []\n",
    "n_lg = fill(0, N)\n",
    "for i = 1:N\n",
    "    config =\n",
    "        :Weather => (\n",
    "            PFD=set.PPFD[i],\n",
    "            CO2=set.Ca[i],\n",
    "            RH=set.Rh[i] * 100,\n",
    "            T_air=set.T[i],\n",
    "            wind=set.Wind[i],\n",
    "            P_air=set.P[i],\n",
    "            g0=set.g0[i],\n",
    "            g1=set.g1[i],\n",
    "            Vcmax=set.VcMaxRef[i],\n",
    "            Jmax=set.JMaxRef[i],\n",
    "            Rd=set.RdRef[i],\n",
    "            TPU=set.TPURef[i],\n",
    "        )\n",
    "    b_LG =\n",
    "        @benchmark simulate($ModelC3MD; config=$config) evals = microbenchmark_evals samples =\n",
    "            microbenchmark_steps\n",
    "    append!(time_LG, b_LG.times .* 1e-9) # transform in seconds\n",
    "    n_lg[i] = 1\n",
    "end\n",
    "```\n",
    "\n",
    "\n"
   ]
  },
  {
   "cell_type": "markdown",
   "metadata": {},
   "source": [
    "\n",
    "##### PlantBiophysics.jl\n",
    "\n",
    "Benchmarking `PlantBiophysics.jl`:\n",
    "\n",
    "```julia\n",
    "constants = Constants()\n",
    "time_PB = []\n",
    "for i = 1:N\n",
    "    leaf = ModelList(\n",
    "        energy_balance=Monteith(),\n",
    "        photosynthesis=Fvcb(\n",
    "            VcMaxRef=set.VcMaxRef[i],\n",
    "            JMaxRef=set.JMaxRef[i],\n",
    "            RdRef=set.RdRef[i],\n",
    "            TPURef=set.TPURef[i],\n",
    "        ),\n",
    "        stomatal_conductance=Medlyn(set.g0[i], set.g1[i]),\n",
    "        status=(\n",
    "            Rₛ=set.Rs[i],\n",
    "            sky_fraction=set.sky_fraction[i],\n",
    "            PPFD=set.PPFD[i],\n",
    "            d=set.d[i],\n",
    "        ),\n",
    "    )\n",
    "    deps = PlantSimEngine.dep(leaf)\n",
    "    meteo = Atmosphere(T=set.T[i], Wind=set.Wind[i], P=set.P[i], Rh=set.Rh[i], Cₐ=set.Ca[i])\n",
    "    st = PlantMeteo.row_struct(leaf.status[1])\n",
    "    b_PB = @benchmark run!($leaf, $deps, $st, $meteo, $constants, nothing) evals =\n",
    "        microbenchmark_evals samples = microbenchmark_steps\n",
    "    append!(time_PB, b_PB.times .* 1e-9) # transform in seconds\n",
    "end\n",
    "```\n",
    "\n"
   ]
  },
  {
   "cell_type": "markdown",
   "metadata": {},
   "source": [
    "\n",
    "## Comparison\n",
    "\n"
   ]
  },
  {
   "cell_type": "markdown",
   "metadata": {},
   "source": [
    "\n",
    "##### Statistics\n",
    "\n",
    "We compute here basic statistics, _i.e._ mean, median, min, max, standard deviation. \n",
    "\n",
    "```julia\n",
    "statsPB = basic_stat(time_PB)\n",
    "statsPE = basic_stat(time_PE)\n",
    "statsLG = basic_stat(time_LG)\n",
    "\n",
    "factorPE = mean(time_PE) / mean(time_PB)\n",
    "factorLG = mean(time_LG) / mean(time_PB)\n",
    "\n",
    "# Write overall timings:\n",
    "df = DataFrame(\n",
    "\t[getfield(j, i) for i in fieldnames(StatResults), j in [statsPB, statsPE, statsLG]],\n",
    "\t[\"PlantBiophysics\", \"plantecophys\", \"LeafGasExchange\"]\n",
    ")\n",
    "insertcols!(df, 1, :Stat => [fieldnames(StatResults)...])\n",
    "CSV.write(\"benchmark.csv\", df)\n",
    "\n",
    "# Write timing for each sample:\n",
    "CSV.write(\"benchmark_full.csv\",\n",
    "\tDataFrame(\n",
    "\t\t\"package\" => vcat(\n",
    "\t\t\t[\n",
    "\t\t\t\trepeat([i.first], length(i.second)) for i in [\n",
    "\t\t\t\t\t\"PlantBiophysics\" => time_PB,\n",
    "\t\t\t\t\t\"plantecophys\" => time_PE,\n",
    "\t\t\t\t\t\"LeafGasExchange\" => time_LG\n",
    "\t\t\t\t]\n",
    "\t\t\t]...\n",
    "\t\t),\n",
    "\t\t\"sample_time\" => vcat(time_PB, time_PE, time_LG)\n",
    "\t)\n",
    ")\n",
    "```\n",
    "\n"
   ]
  },
  {
   "cell_type": "code",
   "execution_count": 7,
   "metadata": {},
   "outputs": [
    {
     "data": {
      "text/html": [
       "<div class=\"data-frame\"><p>5 rows × 4 columns</p><table class=\"data-frame\"><thead><tr><th></th><th>Stat</th><th>PlantBiophysics</th><th>plantecophys</th><th>LeafGasExchange</th></tr><tr><th></th><th title=\"String7\">String7</th><th title=\"Float64\">Float64</th><th title=\"Float64\">Float64</th><th title=\"Float64\">Float64</th></tr></thead><tbody><tr><th>1</th><td>mean</td><td>1.21661e-6</td><td>0.0470207</td><td>0.0226825</td></tr><tr><th>2</th><td>median</td><td>1.083e-6</td><td>0.04569</td><td>0.0214673</td></tr><tr><th>3</th><td>stddev</td><td>1.20394e-6</td><td>0.00808695</td><td>0.0047238</td></tr><tr><th>4</th><td>min</td><td>5.41e-7</td><td>0.0346401</td><td>0.0192761</td></tr><tr><th>5</th><td>max</td><td>2.5e-5</td><td>0.172202</td><td>0.12373</td></tr></tbody></table></div>"
      ],
      "text/latex": [
       "\\begin{tabular}{r|cccc}\n",
       "\t& Stat & PlantBiophysics & plantecophys & LeafGasExchange\\\\\n",
       "\t\\hline\n",
       "\t& String7 & Float64 & Float64 & Float64\\\\\n",
       "\t\\hline\n",
       "\t1 & mean & 1.21661e-6 & 0.0470207 & 0.0226825 \\\\\n",
       "\t2 & median & 1.083e-6 & 0.04569 & 0.0214673 \\\\\n",
       "\t3 & stddev & 1.20394e-6 & 0.00808695 & 0.0047238 \\\\\n",
       "\t4 & min & 5.41e-7 & 0.0346401 & 0.0192761 \\\\\n",
       "\t5 & max & 2.5e-5 & 0.172202 & 0.12373 \\\\\n",
       "\\end{tabular}\n"
      ],
      "text/plain": [
       "\u001b[1m5×4 DataFrame\u001b[0m\n",
       "\u001b[1m Row \u001b[0m│\u001b[1m Stat    \u001b[0m\u001b[1m PlantBiophysics \u001b[0m\u001b[1m plantecophys \u001b[0m\u001b[1m LeafGasExchange \u001b[0m\n",
       "\u001b[1m     \u001b[0m│\u001b[90m String7 \u001b[0m\u001b[90m Float64         \u001b[0m\u001b[90m Float64      \u001b[0m\u001b[90m Float64         \u001b[0m\n",
       "─────┼─────────────────────────────────────────────────────────\n",
       "   1 │ mean          1.21661e-6    0.0470207         0.0226825\n",
       "   2 │ median        1.083e-6      0.04569           0.0214673\n",
       "   3 │ stddev        1.20394e-6    0.00808695        0.0047238\n",
       "   4 │ min           5.41e-7       0.0346401         0.0192761\n",
       "   5 │ max           2.5e-5        0.172202          0.12373"
      ]
     },
     "execution_count": 8,
     "metadata": {},
     "output_type": "execute_result"
    }
   ],
   "source": [
    "df_res = CSV.read(Downloads.download(\"https://raw.githubusercontent.com/VEZY/PlantBiophysics-paper/main/notebooks/performance/benchmark.csv\"), DataFrame)\n",
    "\n"
   ]
  },
  {
   "cell_type": "markdown",
   "metadata": {},
   "source": [
    "\n",
    "##### Histogram plotting\n",
    "\n"
   ]
  },
  {
   "cell_type": "code",
   "execution_count": 8,
   "metadata": {},
   "outputs": [
    {
     "data": {
      "text/plain": [
       "StatResults"
      ]
     },
     "execution_count": 9,
     "metadata": {},
     "output_type": "execute_result"
    }
   ],
   "source": [
    "\"\"\"\n",
    "\tStatResults(\n",
    "\t\tmean::AbstractFloat\n",
    "    \tmedian::AbstractFloat\n",
    "    \tstddev::AbstractFloat\n",
    "    \tmin::AbstractFloat\n",
    "    \tmax::AbstractFloat\n",
    "\t)\n",
    "\n",
    "Structure to hold basic statistics of model performance.\n",
    "\"\"\"\n",
    "struct StatResults\n",
    "    mean::AbstractFloat\n",
    "    median::AbstractFloat\n",
    "    stddev::AbstractFloat\n",
    "    min::AbstractFloat\n",
    "    max::AbstractFloat\n",
    "end\n",
    "\n"
   ]
  },
  {
   "cell_type": "markdown",
   "metadata": {},
   "source": [
    "\n",
    "    **Base.show**\n",
    "\n",
    "    \tBase.show(io::IO, m::StatResults)\n",
    "    \tBase.show(io::IO, ::MIME\"text/plain\", m::StatResults)\n",
    "\n",
    "    Add a show method for our `StatResults` type.\n",
    "    \n"
   ]
  },
  {
   "cell_type": "code",
   "execution_count": 9,
   "metadata": {},
   "outputs": [
    {
     "data": {
      "text/plain": [
       "basic_stat"
      ]
     },
     "execution_count": 10,
     "metadata": {},
     "output_type": "execute_result"
    }
   ],
   "source": [
    "\"\"\"\n",
    "\tbasic_stat(df)\n",
    "\n",
    "Compute basic statistics from the benchmarking\n",
    "\"\"\"\n",
    "function basic_stat(df)\n",
    "    m = mean(df)\n",
    "    med = median(df)\n",
    "    std = Statistics.std(df)\n",
    "    min = findmin(df)[1]\n",
    "    max = findmax(df)[1]\n",
    "    return StatResults(m, med, std, min, max)\n",
    "end\n",
    "\n"
   ]
  },
  {
   "cell_type": "code",
   "execution_count": 10,
   "metadata": {},
   "outputs": [
    {
     "data": {
      "text/plain": [
       "plot_benchmark_Makie (generic function with 1 method)"
      ]
     },
     "execution_count": 11,
     "metadata": {},
     "output_type": "execute_result"
    }
   ],
   "source": [
    "function plot_benchmark_Makie(statsPB, statsPE, statsLG, time_PB, time_PE, time_LG)\n",
    "    size_inches = (6.7, 5)\n",
    "    size_pt = 72 .* size_inches\n",
    "    bins = 220\n",
    "    noto_sans = assetpath(\"fonts\", \"NotoSans-Regular.ttf\")\n",
    "    fig = Figure(\n",
    "        backgroundcolor=RGBf(1, 1, 1),\n",
    "        resolution=size_pt,\n",
    "        font=noto_sans,\n",
    "        fontsize=10,\n",
    "    )\n",
    "    ep = 1e-9\n",
    "    extr = extrema(vcat(time_PB, time_PE, time_LG))\n",
    "    interval = (extr[1] * 1e-1, extr[2])\n",
    "\n",
    "    ga = fig[1, 1] = GridLayout()\n",
    "\n",
    "    axa = Axis(\n",
    "        ga[1, 1],\n",
    "        title=\"(a) PlantBiophysics.jl\",\n",
    "        xscale=log10,\n",
    "        titlealign=:left,\n",
    "        titlesize=10,\n",
    "    )\n",
    "    stddevi = poly!(\n",
    "        axa,\n",
    "        Rect(max(ep, statsPB.mean - statsPB.stddev), 0.0, 2 * statsPB.stddev, 1),\n",
    "        color=(:orange, 0.3),\n",
    "        yautolimits=false,\n",
    "    )\n",
    "    moy = vlines!(axa, statsPB.mean; color=:red, linewidth=3, linestyle=:dot)\n",
    "    hist!(axa, time_PB, normalization=:probability, bins=bins)\n",
    "    # h = axa.finallimits[].widths[2]\n",
    "    axislegend(\n",
    "        axa,\n",
    "        [stddevi, moy],\n",
    "        [\"95% confidence interval\", \"Mean\"],\n",
    "        \"\",\n",
    "        position=:rb,\n",
    "        orientation=:vertical,\n",
    "        labelsize=8,\n",
    "        framevisible=false,\n",
    "    )\n",
    "    xlims!(axa, interval)\n",
    "\n",
    "    axb = Axis(\n",
    "        ga[2, 1],\n",
    "        title=\"(b) plantecophys\",\n",
    "        xscale=log10,\n",
    "        ylabel=\"Density\",\n",
    "        titlealign=:left,\n",
    "        titlesize=10,\n",
    "    )\n",
    "    stddevi = poly!(\n",
    "        axb,\n",
    "        Rect(statsPE.mean - statsPE.stddev, 0.0, 2 * statsPE.stddev, 1),\n",
    "        color=(:orange, 0.3),\n",
    "        yautolimits=false,\n",
    "    )\n",
    "    vlines!(axb, statsPE.mean; color=:red, linewidth=3, linestyle=:dot)\n",
    "    hist!(axb, time_PE, normalization=:probability, bins=bins)\n",
    "    xlims!(axb, interval)\n",
    "\n",
    "    # axc = Axis(ga[3, 1], title=\"(c) LeafGasExchange.jl\", yminorticks=IntervalsBetween(10),\n",
    "    #     xscale=log10, xminorticks=IntervalsBetween(10), yminorgridvisible=true, yminorticksvisible=true,\n",
    "    #     xminorgridvisible=true, xminorticksvisible=true, xlabel=\"Time (s)\")\n",
    "    axc = Axis(\n",
    "        ga[3, 1],\n",
    "        title=\"(c) LeafGasExchange.jl\",\n",
    "        xscale=log10,\n",
    "        xlabel=\"Time (s)\",\n",
    "        titlealign=:left,\n",
    "        titlesize=10,\n",
    "    )\n",
    "    stddevi = poly!(\n",
    "        axc,\n",
    "        Rect(statsLG.mean - statsLG.stddev, 0.0, 2 * statsLG.stddev, 1),\n",
    "        color=(:orange, 0.3),\n",
    "        yautolimits=false,\n",
    "    )\n",
    "    vlines!(axc, statsLG.mean; color=:red, linewidth=3, linestyle=:dot)\n",
    "    hist!(axc, time_LG, normalization=:probability, bins=bins)\n",
    "    xlims!(axc, interval)\n",
    "\n",
    "    rowgap!(ga, 7)\n",
    "    hidexdecorations!(axa, grid=false)\n",
    "    hidexdecorations!(axb, grid=false)\n",
    "    fig\n",
    "end\n",
    "\n"
   ]
  },
  {
   "cell_type": "markdown",
   "metadata": {},
   "source": [
    "We here display the computational time histogram of each package on the same scale in order to compare them: `PlantBiophysics.jl` (a), `plantecophys` (b) and `LeafGasExchange.jl` (c). The y-axis represents the density (_i.e._ reaching 0.3 means that 30% of the computed times are in this bar). Orange zone represents the interval [mean - standard deviation; mean + standard deviation]. Red dashed line represents the mean. Note that the x-axis is logarithmic.\n"
   ]
  },
  {
   "cell_type": "markdown",
   "metadata": {},
   "source": [
    "```{julia}\n",
    "fig = plot_benchmark_Makie(statsPB, statsPE, statsLG, time_PB, time_PE, time_LG)\n",
    "save(\"benchmark_each_time_steps.png\", fig, px_per_unit=3)\n",
    "``````"
   ]
  },
  {
   "cell_type": "markdown",
   "metadata": {},
   "source": [
    "\n",
    "![](https://raw.githubusercontent.com/VEZY/PlantBiophysics-paper/main/notebooks/performance/benchmark_each_time_steps.png)\n",
    "\n",
    "> :memo: **Note** <br>\n",
    "PlantBiophysics.jl is $(Int(round(df_res[1,:plantecophys] / df_res[1,:PlantBiophysics]))) times faster than plantecophys, and  $(Int(round(df_res[1,:LeafGasExchange] / df_res[1,:PlantBiophysics]))) times faster than LeafGasExchange.jl.\n",
    "\n",
    "> :warning: **Warning** <br>\n",
    "This is the plot from the latest commit on <https://github.com/VEZY/PlantBiophysics-paper/>. If you want to make your own benchmarking, run the script that was used to perform it, but careful, it takes a long time to perform!\n",
    "\n"
   ]
  },
  {
   "cell_type": "code",
   "execution_count": 11,
   "metadata": {},
   "outputs": [],
   "source": []
  }
 ],
 "metadata": {
  "kernelspec": {
   "display_name": "Julia 1.8.2",
   "language": "julia",
   "name": "julia-1.8"
  },
  "language_info": {
   "file_extension": ".jl",
   "mimetype": "application/julia",
   "name": "julia",
   "version": "1.8.2"
  }
 },
 "nbformat": 4,
 "nbformat_minor": 2
}
